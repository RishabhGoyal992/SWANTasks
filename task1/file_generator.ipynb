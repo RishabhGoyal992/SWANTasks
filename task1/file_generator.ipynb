{
 "cells": [
  {
   "cell_type": "code",
   "execution_count": 1,
   "metadata": {},
   "outputs": [],
   "source": [
    "import os\n",
    "import random\n",
    "import string\n",
    "import hashlib"
   ]
  },
  {
   "cell_type": "code",
   "execution_count": 2,
   "metadata": {},
   "outputs": [],
   "source": [
    "CHUNK_SIZE = 4096"
   ]
  },
  {
   "cell_type": "code",
   "execution_count": 3,
   "metadata": {},
   "outputs": [],
   "source": [
    "def create_random_string(size=5):\n",
    "    '''\n",
    "        Creates a random string of given size\n",
    "    '''\n",
    "    return ''.join(random.choice(string.ascii_letters) for _ in range(size))"
   ]
  },
  {
   "cell_type": "code",
   "execution_count": 4,
   "metadata": {},
   "outputs": [],
   "source": [
    "def write_files(file_path, no_of_files, file_size):\n",
    "    '''\n",
    "        Writes files of given size to the given path \n",
    "    '''\n",
    "    \n",
    "    for _ in range(no_of_files):\n",
    "        # Create a random name for the file\n",
    "        file_name = create_random_string()\n",
    "    \n",
    "        # write data to file\n",
    "        with open(os.path.join(file_path, file_name), 'wb') as file:\n",
    "            file.write(os.urandom(file_size))\n",
    "            file.close()"
   ]
  },
  {
   "cell_type": "code",
   "execution_count": 5,
   "metadata": {},
   "outputs": [],
   "source": [
    "def read_files(file_path):\n",
    "    '''\n",
    "        Reads files from the given path and prints their md5 checksum\n",
    "    '''\n",
    "    \n",
    "    # list all the files in the directory\n",
    "    for file in os.listdir(file_path):\n",
    "        \n",
    "        # ignore hidden files\n",
    "        if file[0] == '.':\n",
    "            continue\n",
    "            \n",
    "        md5_hash = hashlib.md5()\n",
    "        with open(os.path.join(file_path, file), 'rb') as f:\n",
    "            \n",
    "            # Read data in chunks in case the file is large\n",
    "            for chunk in iter(lambda: f.read(CHUNK_SIZE), b\"\"):\n",
    "                md5_hash.update(chunk)\n",
    "                \n",
    "        print(\"{} {}\".format(file, md5_hash.hexdigest()))"
   ]
  },
  {
   "cell_type": "code",
   "execution_count": 6,
   "metadata": {},
   "outputs": [],
   "source": [
    "# Take file size of 1 MB\n",
    "SIZE = 1 * 1024 * 1024"
   ]
  },
  {
   "cell_type": "code",
   "execution_count": 7,
   "metadata": {},
   "outputs": [
    {
     "name": "stdout",
     "output_type": "stream",
     "text": [
      "Writing 10 files of 1 MB each...\n",
      "Done.\n"
     ]
    }
   ],
   "source": [
    "print(\"Writing 10 files of 1 MB each...\")\n",
    "write_files('./files', 10, SIZE)\n",
    "print(\"Done.\")"
   ]
  },
  {
   "cell_type": "code",
   "execution_count": 8,
   "metadata": {},
   "outputs": [
    {
     "name": "stdout",
     "output_type": "stream",
     "text": [
      "Displaying files and their md5 checksum...\n",
      "bCnRq d1b0cd0f72e478bf9e67d5c72d16809b\n",
      "CrceF 648dcfc6fe6602a120cbb5fdd108bc23\n",
      "eUzST a3ed37d65e6b1275343bbfcc9709d131\n",
      "gDKPN d3acff89b91ed18ccaef33cf6bdd4a5a\n",
      "KlsIX 0123d3c1efc25ccc1faec2a3b7a6b2c3\n",
      "KwkZr 217611f10cdeae8999bf4889c6d48752\n",
      "nXWpN 4bb71b7c6a82054299df777b5d4f0ef6\n",
      "QSdmc 961e3029d73aeff5e2bbb8f9f6aff3a7\n",
      "wfkmP b7110130da22a02709eb6fdbab3c69c1\n",
      "YhVVY 1d57d77e598b39f949a7afdb1c80d851\n"
     ]
    }
   ],
   "source": [
    "print(\"Displaying files and their md5 checksum...\")\n",
    "read_files('./files')"
   ]
  },
  {
   "cell_type": "code",
   "execution_count": null,
   "metadata": {},
   "outputs": [],
   "source": []
  }
 ],
 "metadata": {
  "kernelspec": {
   "display_name": "Python 3",
   "language": "python",
   "name": "python3"
  },
  "language_info": {
   "codemirror_mode": {
    "name": "ipython",
    "version": 3
   },
   "file_extension": ".py",
   "mimetype": "text/x-python",
   "name": "python",
   "nbconvert_exporter": "python",
   "pygments_lexer": "ipython3",
   "version": "3.8.2"
  }
 },
 "nbformat": 4,
 "nbformat_minor": 4
}
